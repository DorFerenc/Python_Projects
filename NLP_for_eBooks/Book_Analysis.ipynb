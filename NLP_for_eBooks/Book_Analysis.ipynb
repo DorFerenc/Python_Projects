{
 "cells": [
  {
   "cell_type": "markdown",
   "id": "b404ba0a",
   "metadata": {},
   "source": [
    "# Load the book"
   ]
  },
  {
   "cell_type": "code",
   "execution_count": null,
   "id": "48becb01",
   "metadata": {},
   "outputs": [],
   "source": [
    "with open(\"miracle_in_the_andes.txt\", \"r\", encoding=\"utf-8\") as file:\n",
    "    book = file.read()"
   ]
  },
  {
   "cell_type": "code",
   "execution_count": 4,
   "id": "f8b1c87a-ac9a-49b2-97e0-d165e410fc14",
   "metadata": {
    "tags": []
   },
   "outputs": [
    {
     "data": {
      "text/plain": [
       "str"
      ]
     },
     "execution_count": 4,
     "metadata": {},
     "output_type": "execute_result"
    }
   ],
   "source": [
    "type(book)"
   ]
  },
  {
   "cell_type": "markdown",
   "id": "0a816e4e-fa3a-46f1-8b91-104a55edb1f5",
   "metadata": {},
   "source": [
    "## How many chapters are in the book?\n",
    "### With string methods"
   ]
  },
  {
   "cell_type": "code",
   "execution_count": 7,
   "id": "f6164d8a",
   "metadata": {},
   "outputs": [
    {
     "data": {
      "text/plain": [
       "11"
      ]
     },
     "execution_count": 7,
     "metadata": {},
     "output_type": "execute_result"
    }
   ],
   "source": [
    "book.count(\"Chapter\")"
   ]
  },
  {
   "cell_type": "markdown",
   "id": "3b97e374",
   "metadata": {},
   "source": [
    "### With regex\n"
   ]
  },
  {
   "cell_type": "code",
   "execution_count": 9,
   "id": "29f987ab",
   "metadata": {},
   "outputs": [],
   "source": [
    "import re"
   ]
  },
  {
   "cell_type": "code",
   "execution_count": 13,
   "id": "abe6282c",
   "metadata": {},
   "outputs": [
    {
     "name": "stdout",
     "output_type": "stream",
     "text": [
      "['Chapter 1', 'Chapter 2', 'Chapter 3', 'Chapter 4', 'Chapter 5', 'Chapter 6', 'Chapter 7', 'Chapter 8', 'Chapter 9', 'Chapter 10']\n",
      "10\n"
     ]
    }
   ],
   "source": [
    "pattern = re.compile(r\"Chapter \\d+\")\n",
    "chapters = pattern.findall(book)\n",
    "print(chapters)\n",
    "print(len(chapters))"
   ]
  },
  {
   "cell_type": "markdown",
   "id": "2b7b4eca",
   "metadata": {},
   "source": [
    "### Which are the  sentences where \"love\" was used?"
   ]
  },
  {
   "cell_type": "code",
   "execution_count": 29,
   "id": "d4cfb119",
   "metadata": {},
   "outputs": [
    {
     "name": "stdout",
     "output_type": "stream",
     "text": [
      "67\n"
     ]
    },
    {
     "data": {
      "text/plain": [
       "['As a young man, of course, I could not put these things into words, but I knew, and my teammates knew, that there was something special about the game, and under the guidance of the Christian Brothers we developed a passionate love for the sport that shaped our friendships and our lives.',\n",
       " 'Guido and I grew up together, playing soccer and sharing a love of motorcycles, cars, and auto racing.',\n",
       " 'Under the guidance of the Christian Brothers, both of us grew to love the game of rugby with a consuming passion.',\n",
       " 'That rowdiness came to an abrupt end for Guido in 1969, when he met and fell in love with the beautiful daughter of a Chilean diplomat.',\n",
       " 'I believe he had a great hunger for the love and comforts of a family that was happy and whole.',\n",
       " 'He shared, with my father and me, a love for cars and driving, and he loved going with us to auto races.',\n",
       " 'The house had a beautiful view of the sea, and this more than anything made my mother love it.',\n",
       " 'She was a true tower of strength, but her strength was always based in warmth and love and because of her love and protection I grew up believing the world was a safe, familiar place.',\n",
       " 'He had given us a life of comfort and privilege such as his own father never could have imagined, he had provided for us and protected us in the best way he could, and though he was not an emotionally expressive man, he always showed his love for us subtly, quietly, and in ways that were true to the man he was.',\n",
       " 'Out of love for his family he had arranged in his mind a future that would keep us all safe, happy, and always together.']"
      ]
     },
     "execution_count": 29,
     "metadata": {},
     "output_type": "execute_result"
    }
   ],
   "source": [
    "pattern = re.compile(\"[A-Z]{1}[^.]*[^a-zA-Z]+love[^a-zA-Z]+[^.]*.\")\n",
    "findings = pattern.findall(book)\n",
    "print(len(findings))\n",
    "findings[:10]"
   ]
  },
  {
   "cell_type": "code",
   "execution_count": null,
   "id": "cf3812cb",
   "metadata": {},
   "outputs": [],
   "source": []
  }
 ],
 "metadata": {
  "kernelspec": {
   "display_name": "Python 3 (ipykernel)",
   "language": "python",
   "name": "python3"
  },
  "language_info": {
   "codemirror_mode": {
    "name": "ipython",
    "version": 3
   },
   "file_extension": ".py",
   "mimetype": "text/x-python",
   "name": "python",
   "nbconvert_exporter": "python",
   "pygments_lexer": "ipython3",
   "version": "3.10.4"
  }
 },
 "nbformat": 4,
 "nbformat_minor": 5
}
